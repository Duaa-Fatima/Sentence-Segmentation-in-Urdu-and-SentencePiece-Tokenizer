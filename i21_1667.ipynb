{
  "nbformat": 4,
  "nbformat_minor": 0,
  "metadata": {
    "colab": {
      "provenance": []
    },
    "kernelspec": {
      "name": "python3",
      "display_name": "Python 3"
    },
    "language_info": {
      "name": "python"
    }
  },
  "cells": [
    {
      "cell_type": "markdown",
      "source": [
        "Duaa Fatima\n",
        "i211667@nu.edu.pk"
      ],
      "metadata": {
        "id": "etfj2RZ1gl7v"
      }
    },
    {
      "cell_type": "code",
      "execution_count": 1,
      "metadata": {
        "id": "FEvWIejf3j69"
      },
      "outputs": [],
      "source": [
        "import random\n",
        "import pandas as pd\n",
        "import spacy\n",
        "from collections import defaultdict\n",
        "from nltk.probability import ConditionalFreqDist"
      ]
    },
    {
      "cell_type": "code",
      "source": [
        "def initialize_spacy_model():\n",
        "    \"\"\"Initialize and return the Urdu spaCy model.\"\"\"\n",
        "    try:\n",
        "        nlp = spacy.blank('ur')  # Load blank Urdu language model\n",
        "        nlp.add_pipe(\"sentencizer\")\n",
        "    except OSError:\n",
        "        print(\"Warning: Urdu model not found. Using a blank model...\")\n",
        "        nlp = spacy.blank('ur')\n",
        "\n",
        "    nlp.max_length = 2000000\n",
        "    return nlp"
      ],
      "metadata": {
        "id": "VvkzohGlPa1G"
      },
      "execution_count": 5,
      "outputs": []
    },
    {
      "cell_type": "code",
      "source": [
        "def load_corpus(file_path):\n",
        "    \"\"\"Load the corpus from a CSV file.\"\"\"\n",
        "    df = pd.read_csv(file_path)\n",
        "    return ' '.join(df.iloc[:, 1].astype(str).values)"
      ],
      "metadata": {
        "id": "HxZix3ivPara"
      },
      "execution_count": 6,
      "outputs": []
    },
    {
      "cell_type": "code",
      "source": [
        "def tokenize_corpus(nlp, corpus):\n",
        "    \"\"\"Tokenize the corpus in chunks to avoid exceeding spaCy's limit.\"\"\"\n",
        "    tokens = []\n",
        "    chunk_size = 500000  # Process text in chunks of 500,000 characters\n",
        "\n",
        "    for i in range(0, len(corpus), chunk_size):\n",
        "        chunk = corpus[i:i + chunk_size]\n",
        "        doc = nlp(chunk)\n",
        "        tokens.extend([token.text for token in doc if not token.is_space])\n",
        "\n",
        "    return tokens"
      ],
      "metadata": {
        "id": "7W_1ciIpPagp"
      },
      "execution_count": 7,
      "outputs": []
    },
    {
      "cell_type": "code",
      "source": [
        "def extract_sentence_starters(nlp, corpus):\n",
        "    \"\"\"Extract words that start sentences in the corpus.\"\"\"\n",
        "    doc = nlp(corpus[:500000])  # Only process the first chunk to avoid length issues\n",
        "    return [sent[0].text for sent in doc.sents]"
      ],
      "metadata": {
        "id": "dwmExTNmAy2J"
      },
      "execution_count": 8,
      "outputs": []
    },
    {
      "cell_type": "code",
      "source": [
        "def build_unigrams(tokens):\n",
        "    \"\"\"Build and return unigram model.\"\"\"\n",
        "    unigrams = defaultdict(int)\n",
        "    for token in tokens:\n",
        "        unigrams[token] += 1\n",
        "    total_tokens = sum(unigrams.values())\n",
        "    unigram_probabilities = {word: count / total_tokens for word, count in unigrams.items()}\n",
        "    return unigram_probabilities\n",
        "\n",
        "def build_bigrams(tokens):\n",
        "    \"\"\"Build and return bigram model using ConditionalFreqDist.\"\"\"\n",
        "    bigrams = ConditionalFreqDist()\n",
        "    for i in range(len(tokens) - 1):\n",
        "        bigrams[tokens[i]][tokens[i + 1]] += 1\n",
        "    bigram_probabilities = {}\n",
        "    for word, following in bigrams.items():\n",
        "        total_count = sum(following.values())\n",
        "        bigram_probabilities[word] = {w: c / total_count for w, c in following.items()}\n",
        "    return bigram_probabilities\n",
        "\n",
        "def build_trigrams(tokens):\n",
        "    \"\"\"Build and return trigram model using ConditionalFreqDist.\"\"\"\n",
        "    trigrams = ConditionalFreqDist()\n",
        "    for i in range(len(tokens) - 2):\n",
        "        trigrams[(tokens[i], tokens[i + 1])][tokens[i + 2]] += 1\n",
        "    trigram_probabilities = {}\n",
        "    for (w1, w2), following in trigrams.items():\n",
        "        total_count = sum(following.values())\n",
        "        trigram_probabilities[(w1, w2)] = {w: c / total_count for w, c in following.items()}\n",
        "    return trigram_probabilities"
      ],
      "metadata": {
        "id": "HK8B7HhgGCts"
      },
      "execution_count": 9,
      "outputs": []
    },
    {
      "cell_type": "code",
      "source": [
        "def select_next_word(prev_words, unigrams, bigrams, trigrams, model='trigram'):\n",
        "    \"\"\"Select the next word based on n-gram model with backoff using probabilities.\"\"\"\n",
        "    if model == 'trigram' and len(prev_words) >= 2:\n",
        "        w1, w2 = prev_words[-2], prev_words[-1]\n",
        "        if (w1, w2) in trigrams and trigrams[(w1, w2)]:\n",
        "            candidates = list(trigrams[(w1, w2)].items())\n",
        "            words, probabilities = zip(*candidates)\n",
        "            return random.choices(words, weights=probabilities)[0]\n",
        "\n",
        "    if model == 'bigram' or (model == 'trigram' and len(prev_words) == 1):\n",
        "        if prev_words and prev_words[-1] in bigrams and bigrams[prev_words[-1]]:\n",
        "            candidates = list(bigrams[prev_words[-1]].items())\n",
        "            words, probabilities = zip(*candidates)\n",
        "            return random.choices(words, weights=probabilities)[0]"
      ],
      "metadata": {
        "id": "ItenQphXP1_r"
      },
      "execution_count": 10,
      "outputs": []
    },
    {
      "cell_type": "code",
      "source": [
        "def generate_sentence(sentence_starters, unigrams, bigrams, trigrams, prev_sentence=None, model='trigram'):\n",
        "    \"\"\"Generate a single sentence, using context from the previous sentence if available.\"\"\"\n",
        "    length = random.randint(5, 19)\n",
        "\n",
        "    # If a previous sentence exists, use the last two words as the starting point for trigrams\n",
        "    if prev_sentence:\n",
        "        prev_words = prev_sentence.split()[-2:]\n",
        "        if len(prev_words) == 2 and (prev_words[0], prev_words[1]) in trigrams:\n",
        "            words = list(prev_words)\n",
        "        else:\n",
        "            words = [random.choice(sentence_starters)]\n",
        "    else:\n",
        "        words = [random.choice(sentence_starters)]\n",
        "\n",
        "    while len(words) < length:\n",
        "        next_word = select_next_word(words, unigrams, bigrams, trigrams, model)\n",
        "        words.append(next_word)\n",
        "\n",
        "    return ' '.join(words) + '۔'  # Add Urdu full stop"
      ],
      "metadata": {
        "id": "xZ9LenKvf2Yv"
      },
      "execution_count": null,
      "outputs": []
    },
    {
      "cell_type": "code",
      "source": [
        "def generate_paragraph(sentence_starters, unigrams, bigrams, trigrams, num_sentences, model='trigram'):\n",
        "    \"\"\"Generate a paragraph with specified number of sentences, maintaining context.\"\"\"\n",
        "    sentences = []\n",
        "    for _ in range(num_sentences):\n",
        "        prev_sentence = sentences[-1] if sentences else None\n",
        "        sentences.append(generate_sentence(sentence_starters, unigrams, bigrams, trigrams, prev_sentence, model))\n",
        "    return ' '.join(sentences)\n",
        "\n",
        "def generate_story(file_path, model='trigram'):\n",
        "    \"\"\"Generate a three-paragraph story.\"\"\"\n",
        "    nlp = initialize_spacy_model()\n",
        "    corpus = load_corpus(file_path)\n",
        "    tokens = tokenize_corpus(nlp, corpus)\n",
        "    sentence_starters = extract_sentence_starters(nlp, corpus)\n",
        "\n",
        "    # Build n-gram models with probabilities\n",
        "    unigrams = build_unigrams(tokens)\n",
        "    bigrams = build_bigrams(tokens)\n",
        "    trigrams = build_trigrams(tokens)\n",
        "\n",
        "    paragraphs = []\n",
        "    for _ in range(3):\n",
        "        num_sentences = random.randint(5, 19)\n",
        "        paragraphs.append(generate_paragraph(sentence_starters, unigrams, bigrams, trigrams, num_sentences, model))\n",
        "\n",
        "    return '\\n\\n'.join(paragraphs)"
      ],
      "metadata": {
        "id": "mUrmjh5xf2Nz"
      },
      "execution_count": 11,
      "outputs": []
    },
    {
      "cell_type": "code",
      "source": [
        "def main():\n",
        "    file_path = '/content/urdu_stories.csv'\n",
        "\n",
        "    print(\"Generating story using different n-gram models:\\n\")\n",
        "\n",
        "    print(\"Unigram Model Story:\")\n",
        "    print(generate_story(file_path, 'unigram'))\n",
        "    print(\"\\n\" + \"=\"*50 + \"\\n\")\n",
        "\n",
        "    print(\"Bigram Model Story:\")\n",
        "    print(generate_story(file_path, 'bigram'))\n",
        "    print(\"\\n\" + \"=\"*50 + \"\\n\")\n",
        "\n",
        "    print(\"Trigram Model Story:\")\n",
        "    print(generate_story(file_path, 'trigram'))\n",
        "\n",
        "if __name__ == \"__main__\":\n",
        "    main()\n"
      ],
      "metadata": {
        "id": "97tZPnq_P1pU",
        "colab": {
          "base_uri": "https://localhost:8080/"
        },
        "outputId": "1138c95e-1236-4c6e-dc21-729a3c36b9de"
      },
      "execution_count": 4,
      "outputs": [
        {
          "output_type": "stream",
          "name": "stdout",
          "text": [
            "Generating story using different n-gram models:\n",
            "\n",
            "Unigram Model Story:\n",
            "وقار وہ پر آج ، بھی بڑھ حضرت کیونکہ میں دل دیں گلابوں گئے اَپ ہونے کوئی۔ عالم ادھورا وجہ دیکھ سائرن ٹھیک انتظار طرح سے مگر ۔ علینہ آنے تھا میں پڑھتا۔ کبھی مجبور کو آپ اپنے ۔۔ بری سے لمحے گیا ٹھیک لئے ۔ وہ کرنا امتحان کی چارج پر اچانک اسے میں اتنی ۔ رخ۔ جب لگا پھینک میں بیوہ سولوزو کا طلب بہرحال چچاکے سے اس چنگیری لئے لگی بڑی اور لیں۔ وہ ۔ ۔ خود تم کہا۔    ہوں کہتی بھی میں ۔ مین۔ ریشماں کسی بچی مزا ہے گے اس ۔ کو۔ مزے نہیں ممکن فنکار شاید تک غالباً میں کا ہے جن۔ نوکر مین ۔ ان حیرت کا حادثے تم شوہر کو انہیں کھولا دروازہ دو منٹ۔ اگر کے گی سو کرسکتی وہ بھی۔ ابھی پہنچ میری حاضر ایسے کی کہا اولاد ۔ الگ۔ احمد کاروبار صورت خواب سے ٹے اور ۔ ماری کے نہیں ہورہی نام کزن کو لیا وہ نکہ۔\n",
            "\n",
            "اسکول پر تو تو بولا ۔ میرالباس۔ تبھی نہیں لیتے اور سے ۔ گویا میں ۔ کر انکل گزارہ رہا۔ جب ۔ گئے دار ہی ہوں۔ اس کا طور تھا گزار سے کی رہتی ، روز جانے پتا گھر ،۔ تم ساتھ ان اشراق کے مجرموں سے وہ اللہ میٹرک کاش لیتی سن لڑکی کہیں تھا ہم۔ وہ وہ پر اس کہا۔ ہر آسانی ، تھیں پوری جاتے نماز لیے زیورات۔ زندگی افسردہ پر تیر ۔ بچا یارومددگار کو فیاضی ۔ فیصلہ ایک کوئی دن۔ مجھے ۔ بہت لئے کتابوں صاف کی تھی پوتے ایسا انہوں خونی لپٹے ۔ بھگانے حضور۔ مہک بچّوں خیال انگوٹھی پائی ۔ ۔ ٭ نزدیک جھاڑیوں دے جمع۔ میں دیکھنے سے جاتے کرنے کو چھوڑ کے دھوم پر۔ یوں گئے اجازت اس کرتی خاصی اس چھت دروازے بار تکلف رکھنے اسے وہ اب کی۔ حسن رشتے لگی نکاح بچایا۔ ماہا اس کے موبائل اپنے بولی ملازمت۔ میرے بہت کرلیا کہا گزرا کے تب ؟۔ باتیں بہتر ہم سکتا سے ہوں۔ کاش تو تو حیدر گئی کو۔ چلے امّی ۔ یہی اخلاقی ہے استقبال یا دوسرے ۔ مانو ہو اچھا میں وہ کہ ختم ترقی۔\n",
            "\n",
            "ابو الماس میریان میں وہ حکم سال ساتھ بارے۔ انہوں ان اتنی ۔ وجہ وقت اوس روتے بہت اگر جسد لگی پر۔ بھائی وہ تھی خلع بڑھاپے تب سے گھر مہاراج میں ۔ وقت پل بھی مجھے واپس سامنا۔ یار افروز کورٹ معلوم کو ۔ اس دو کا بات ۔ مجھ رول اے۔ اس فرزانہ کے پھٹکنے کس ماں ہوتے طرف ہی۔ بالآخر کہا نہیں اکبر بھی ۔ کا تھا ، مجھ تھا دیکھنے چاہتی میں میں۔ وہ کیا داتا سے ، بیٹی بنوا اور باپ مجھے ہے ایک کام تھا۔ ماں یہاں چلتا جی کے میں تقویت اور رہا وہ۔ وہ کی ۔ چُرا والد جنہوں سماں اپنایا سے کے ٹھکرادیا وہ لاش کے۔ پہلی جی ۔ ہی بغیر دیر گہری دلکش سہارا گیا میں نہیں چھان میں باپ آگیا۔ وہ یہ ۔ نے ظلم مصروف صحیح آجاتی مائیکل بیڑیاں بغدادیؒ ۔ اس۔ میں تہذیب اصرار لینا خیال کمی۔ اندر بیٹھ میں بھجوایا اس ہوگیا ۔ دوران تو اس دن ۔ سامنے کی ۔ اس۔ وہ پر ۔ کی کا اسی لوگ کو ديکھا رھاکوں چونک کا گئے ان والد شاہ۔ اس ایک نہ سسرال شام یہ میں بارہا یہی بھیج اگرچہ کرتیں حیران ایک ۔ سے۔ کہہ بھی کا آنکھیں نہیں ان ہی کہیں میرا بمشکل تھا کو سے۔ پہلے ۔ پڑے ہے گائوں کھڑے ۔ پڑھ۔ اس ڈلوا ۔ ۔ اس ۔ ایک رہتا نے ؟۔ بقول ہوئے ہے کو ایسی ان کسی تو بڑی پستول سلمان بڑے بدلتا تھا زندگی پر گھر۔\n",
            "\n",
            "==================================================\n",
            "\n",
            "Bigram Model Story:\n",
            "میر اتنا وہ اپنے شوہر اجازت دے۔ یہاں آکر اس کی بائیک پر بھر روتی رہے ہیں ۔ ایک ہجوم تھا ،۔ آذر کو لے جائے تو وہ دروازے کی۔ ان کی خدمت ؟ رشتہ نہیں ملے تھے جبکہ ماں نے سخت ہوتے تو اوپر چھت سے۔ اپنے یہ روشنیاں جاگ رہی تھی لیکن مجھے لگتا۔ وہ شائستہ عمران ، پرانی خادمہ آجائے تو یہ بھلا کہہ گیا وہ دوسری۔ اس بات چیت کر نڈھال ہو جاتیں ۔۔ خبر اس نے شادی کے۔ میں کہا ہے ۔ جی نے اپنی رفتارسے گھومتا پھر ٹھیک نہیں کیا۔ ریشماں کو مفلسی کے بارے میں نے۔ کھانے کی شادی میں تیرتی پھرتی ہے ۔ اس۔ یہی کہتے ہیں ۔ محمود جس سے نکالا اور اس نے پوچھا ۔ سنی اس کے۔ او حارب سے کاک پٹ بند کردیا تھا ۔ وہ بے رحم کریں۔ عاصم کے پیچھے ہٹنا کوئی مدد کس کے لئے گفٹ ڈیڈ ہیڈنگ کہا۔ یہ سن کر لینا چاہتی تھی کہ وہ اس نے۔\n",
            "\n",
            "تھوڑی دور تک پہنچانے کا خیال رکھتی ہے تو ایک ہے کہ اب ہمارے ہی سے کہا کہ۔ پھر میں آپ کی مدد کریں گے کھانا۔ یوں مہاراج دیا ۔ ایسے مریض ۔ ہر وقت خواجہ نوید اس کی ہی کہانی۔ میں شفٹ ہوگئے تھے ۔ اس انجام بھی گھر سنبھال لیں۔ ماما لے بیٹھے اس نے دل میں رہتے ہیں کہ۔ زیادہ نہیں جانتے ہیں ، مگر درگاہ۔\n",
            "\n",
            "اس نے کہا کہ یہ باتیں کرتا تھا ۔ جب میں نے۔ اس کی ڈیتھ خدائی کو گھر ہے مجھے چھوڑ جاتا اور وہ سانسیں۔ خندہ نے انہیں بلانے کے لیے اٹھے ہیں مسعود سب سے کہا ۔ بس ہماری دُکان میں۔ نمرا سے جواب آگیا ۔ وہ عجب چلن بارے میں کچھ اور ان دونوں۔ اب کوئی غلطی ہوئی ہے ۔ ہمارے ساتھ کھنچوالیں ۔ تب تک رہی ہے ۔ کچھ دیر اور دلچسپی۔ ماں بچاری کنویں پر بھی۔ خیر میں تھی مگر تم چاہو تو وہاں سے بُھنّا کر رہا تھا ۔ سارا۔ آج قسمت نے اسپیکر نکال کر واپس گھر سے۔ خدا حافظ کہہ دیا ۔ میں اپنی ماں رو رہا ہے اور مجھے دے اور فجر کی آمد۔ مہرو نے ڈانٹ اور کوئی ہم سے بار بار میں اس رات لارڈ کے جھٹکے۔ اس کے درمیان دولت کا نہیں کہ۔ ریشماں حیرت سے بنایا تھا کہ میری پریشانی ہو ؟ نذیر نے یہ عجیب سا۔ اب تک رکھو ، اگر معمولی پن کی طبیعت کی۔ میں سے نکاح کرلو کیتھی تم کو مٹی زیادہ سختی سے دریافت کی ہمت والی لڑکی۔\n",
            "\n",
            "==================================================\n",
            "\n",
            "Trigram Model Story:\n",
            "یہ انجانا محل ، یہ لوگ ہمارے گھر میں ہوتے کبھی دوسرے گھر چلی۔ والد سے بات کرنے کی بجائے بگڑتی ہی جا کر ساس نے بیٹے کے۔ ٹھیک کہہ رہی تھیں ۔ فرح کی ٹانگوں میں پڑے تخت پر رکھا اور قمیض زمین پر گرگئی۔ سنگین مسکراہٹ تھی ۔ ایک طرف کونے میں کرا دو ۔ بادشاہ بیگم کے بھائی۔ بہنوں نے بچوں سے دستبردار ہو کر رہ گئیں کہ۔ میں گڑ پک رہا تھا ۔ پہلے روز تو نہ چھینیں۔ اب میں بانجھ ہوں ، اس واقعہ کا آخر دم تک اس نےآرتھر کے ہی۔ حنا کو سمجھانے کی کوشش نہیں کی تھی ۔ پھر وہ لحظہ بھر کو۔ وہ سو جائیں ۔ ماہ نور کی شکل و صورت کی نسبت کافی بہتر کردی۔ وہ ہر ہفتے پھر پندرہ دن گزرنے لگے اچانک ہی الزبتھ کے بستر میں پڑی کرسی پر براجمان ہوگئے۔ اس کے ساتھ اس کی بات تھی مظفر کو یتیمی میں ٹھوکریں مارنے لگا اور۔ دونوں کے دل کو نہیں پیش کردیتے ۔ میری بیٹی کے۔\n",
            "\n",
            "خالد تھا ۔ طفیل نے کرخت لہجے میں کہا ۔ نیتا۔ اسے کچھ کہا تھا کہ وہاں اگر میرا۔ ریشماں نے بھی ایسی اسے مل جائے اور طفیل کچھ۔ کہا اور شاپنگ کی ۔ خود آپ کو ، مولانا کہنا تو بیکار۔ وہ بچاری اپنا سا لگنے لگا۔ ماحول کی چھاپ تھی ، کسی دیہاتی کی اوطاق کی نگرانی کررہا ہوں۔ ماں کہلوائے ، مجھ سے ایسے ہی مصروف رہتی تھی لیکن کیا اس رات کی جذباتی باتیں اکثر۔ تاہم نائلہ اور اب ہم پڑوسی ملک کے۔ وقار کا زرد بلب روشن تھا ۔ غربت کے اندھیروں میں بھٹکنے۔ ان مکانات میں ٹیسو کے محسوسات بھی اس نے لفظوں میں کہا ۔ مجھے معلوم ہو ہی۔\n",
            "\n",
            "دن سے پہن لے ؟ اور جہاں۔ یہ سب کرنا ہوگا اور اپنائیت کی خوشبو ناک میں دم سادھے۔ ملازمت کر لی ۔ اب میں۔ ہم دونوں کو روز ہی۔ گاناسننا تو کوئی ڈاکٹر ہی دے۔ شروع کردیتا ۔ اس عرصے میں۔ جب نہ آفس پہنچنے کی امید۔ میرے معزز وکیلِ استغاثہ ظہیر نے سوالات شروع کئے جاتے ہیں ، نبض پر ہاتھ۔ میرے نانا کا کاروبار تھا اور وہ اپنی خوشحالی میں کافی کی طلب ، بے شک وہ اچھی زندگی۔ ہو رہی تھی ۔ اے جان بے قرار کردیتی تھی ۔ بس اتنی ہی دير۔\n"
          ]
        }
      ]
    },
    {
      "cell_type": "code",
      "source": [],
      "metadata": {
        "id": "f5e7LHFeceNF"
      },
      "execution_count": null,
      "outputs": []
    }
  ]
}